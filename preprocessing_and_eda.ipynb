{
 "cells": [
  {
   "cell_type": "markdown",
   "id": "bfaf7e71-0bfe-42b1-b2ab-c18ac5b260ad",
   "metadata": {},
   "source": [
    "# \"HR has requested some help with a project,\" my team lead, Jordan, explained.\n",
    "\n",
    "\"They have data from a survey given to a bunch of managers, and they'd like you to go through it to find:\n",
    "* the average salary for a software engineer for each currency,\n",
    "* the average salary for a software engineer for each currency _grouped by age_, and\n",
    "* a comparison of the four currencies which are most common in the data.\n",
    "\n",
    "\"And just a heads up: the data is a bit messy, since there are some free-response text fields in the survey, so it will need some cleaning. You'll also need to grab currency conversions to compare the salaries.\n",
    "\n",
    "\"They need the information by the end of the day.\"\n",
    "\n",
    "\"I'm on it!\" I replied, and headed back to my desk to get started..."
   ]
  },
  {
   "cell_type": "markdown",
   "id": "964c219b-5c14-4360-8191-ffa0f61c99ec",
   "metadata": {},
   "source": [
    "## My tasks\n",
    "* Explore the dataset, handling missing entries\n",
    "* Determine the salaries for software developers and engineers in USD\n",
    "* Determine the average S/E salary for each currency and the average S/E salary for each currency based on age\n",
    "* Visualize a comparison by plotting the salaries based on age for the top 4 currencies in the merged dataset"
   ]
  },
  {
   "cell_type": "markdown",
   "id": "e3443cfe-6be6-4a69-a686-8e4498dc5d58",
   "metadata": {},
   "source": [
    "## Dependencies"
   ]
  },
  {
   "cell_type": "code",
   "execution_count": 1,
   "id": "405bf1d8-37bd-42fc-9425-7df33fb9b078",
   "metadata": {},
   "outputs": [],
   "source": [
    "# !conda install -c conda-forge thefuzz -y"
   ]
  },
  {
   "cell_type": "code",
   "execution_count": 2,
   "id": "5399c09d-2e8b-4670-92e9-585f00ee2d9a",
   "metadata": {},
   "outputs": [],
   "source": [
    "# !conda install python-Levenshtein -y"
   ]
  },
  {
   "cell_type": "code",
   "execution_count": 3,
   "id": "69f6406a-ed42-45f2-a7c5-94fcfa0c8aa8",
   "metadata": {},
   "outputs": [],
   "source": [
    "# import Levenshtein\n",
    "import matplotlib.pyplot as plt\n",
    "import numpy as np\n",
    "import pandas as pd\n",
    "import re\n",
    "import seaborn as sns\n",
    "# from thefuzz import fuzz, process"
   ]
  },
  {
   "cell_type": "markdown",
   "id": "27bb9722-cc72-45df-82cc-46e91e355c48",
   "metadata": {},
   "source": [
    "# Data preparation\n",
    "\n",
    "## Read in the data\n",
    "\n",
    "* I like to glance through the first few rows of the dataframe to get an idea for what I'm dealing with"
   ]
  },
  {
   "cell_type": "code",
   "execution_count": 4,
   "id": "ce0c5ae2-a12d-4533-b185-fbd3e45b0dc4",
   "metadata": {},
   "outputs": [
    {
     "data": {
      "text/html": [
       "<div>\n",
       "<style scoped>\n",
       "    .dataframe tbody tr th:only-of-type {\n",
       "        vertical-align: middle;\n",
       "    }\n",
       "\n",
       "    .dataframe tbody tr th {\n",
       "        vertical-align: top;\n",
       "    }\n",
       "\n",
       "    .dataframe thead th {\n",
       "        text-align: right;\n",
       "    }\n",
       "</style>\n",
       "<table border=\"1\" class=\"dataframe\">\n",
       "  <thead>\n",
       "    <tr style=\"text-align: right;\">\n",
       "      <th></th>\n",
       "      <th>Timestamp</th>\n",
       "      <th>How old are you?</th>\n",
       "      <th>Industry</th>\n",
       "      <th>Job title</th>\n",
       "      <th>Additional context on job title</th>\n",
       "      <th>Annual salary</th>\n",
       "      <th>Other monetary comp</th>\n",
       "      <th>Currency</th>\n",
       "      <th>Currency - other</th>\n",
       "      <th>Additional context on income</th>\n",
       "      <th>Country</th>\n",
       "      <th>State</th>\n",
       "      <th>City</th>\n",
       "      <th>Overall years of professional experience</th>\n",
       "      <th>Years of experience in field</th>\n",
       "      <th>Highest level of education completed</th>\n",
       "      <th>Gender</th>\n",
       "      <th>Race</th>\n",
       "    </tr>\n",
       "  </thead>\n",
       "  <tbody>\n",
       "    <tr>\n",
       "      <th>0</th>\n",
       "      <td>4/27/2021 11:02:10</td>\n",
       "      <td>25-34</td>\n",
       "      <td>Education (Higher Education)</td>\n",
       "      <td>Research and Instruction Librarian</td>\n",
       "      <td>NaN</td>\n",
       "      <td>55,000</td>\n",
       "      <td>0.0</td>\n",
       "      <td>USD</td>\n",
       "      <td>NaN</td>\n",
       "      <td>NaN</td>\n",
       "      <td>United States</td>\n",
       "      <td>Massachusetts</td>\n",
       "      <td>Boston</td>\n",
       "      <td>5-7 years</td>\n",
       "      <td>5-7 years</td>\n",
       "      <td>Master's degree</td>\n",
       "      <td>Woman</td>\n",
       "      <td>White</td>\n",
       "    </tr>\n",
       "    <tr>\n",
       "      <th>1</th>\n",
       "      <td>4/27/2021 11:02:22</td>\n",
       "      <td>25-34</td>\n",
       "      <td>Computing or Tech</td>\n",
       "      <td>Change &amp; Internal Communications Manager</td>\n",
       "      <td>NaN</td>\n",
       "      <td>54,600</td>\n",
       "      <td>4000.0</td>\n",
       "      <td>GBP</td>\n",
       "      <td>NaN</td>\n",
       "      <td>NaN</td>\n",
       "      <td>United Kingdom</td>\n",
       "      <td>NaN</td>\n",
       "      <td>Cambridge</td>\n",
       "      <td>8 - 10 years</td>\n",
       "      <td>5-7 years</td>\n",
       "      <td>College degree</td>\n",
       "      <td>Non-binary</td>\n",
       "      <td>White</td>\n",
       "    </tr>\n",
       "    <tr>\n",
       "      <th>2</th>\n",
       "      <td>4/27/2021 11:02:38</td>\n",
       "      <td>25-34</td>\n",
       "      <td>Accounting, Banking &amp; Finance</td>\n",
       "      <td>Marketing Specialist</td>\n",
       "      <td>NaN</td>\n",
       "      <td>34,000</td>\n",
       "      <td>NaN</td>\n",
       "      <td>USD</td>\n",
       "      <td>NaN</td>\n",
       "      <td>NaN</td>\n",
       "      <td>US</td>\n",
       "      <td>Tennessee</td>\n",
       "      <td>Chattanooga</td>\n",
       "      <td>2 - 4 years</td>\n",
       "      <td>2 - 4 years</td>\n",
       "      <td>College degree</td>\n",
       "      <td>Woman</td>\n",
       "      <td>White</td>\n",
       "    </tr>\n",
       "    <tr>\n",
       "      <th>3</th>\n",
       "      <td>4/27/2021 11:02:41</td>\n",
       "      <td>25-34</td>\n",
       "      <td>Nonprofits</td>\n",
       "      <td>Program Manager</td>\n",
       "      <td>NaN</td>\n",
       "      <td>62,000</td>\n",
       "      <td>3000.0</td>\n",
       "      <td>USD</td>\n",
       "      <td>NaN</td>\n",
       "      <td>NaN</td>\n",
       "      <td>USA</td>\n",
       "      <td>Wisconsin</td>\n",
       "      <td>Milwaukee</td>\n",
       "      <td>8 - 10 years</td>\n",
       "      <td>5-7 years</td>\n",
       "      <td>College degree</td>\n",
       "      <td>Woman</td>\n",
       "      <td>White</td>\n",
       "    </tr>\n",
       "    <tr>\n",
       "      <th>4</th>\n",
       "      <td>4/27/2021 11:02:42</td>\n",
       "      <td>25-34</td>\n",
       "      <td>Accounting, Banking &amp; Finance</td>\n",
       "      <td>Accounting Manager</td>\n",
       "      <td>NaN</td>\n",
       "      <td>60,000</td>\n",
       "      <td>7000.0</td>\n",
       "      <td>USD</td>\n",
       "      <td>NaN</td>\n",
       "      <td>NaN</td>\n",
       "      <td>US</td>\n",
       "      <td>South Carolina</td>\n",
       "      <td>Greenville</td>\n",
       "      <td>8 - 10 years</td>\n",
       "      <td>5-7 years</td>\n",
       "      <td>College degree</td>\n",
       "      <td>Woman</td>\n",
       "      <td>White</td>\n",
       "    </tr>\n",
       "  </tbody>\n",
       "</table>\n",
       "</div>"
      ],
      "text/plain": [
       "            Timestamp How old are you?                       Industry  \\\n",
       "0  4/27/2021 11:02:10            25-34   Education (Higher Education)   \n",
       "1  4/27/2021 11:02:22            25-34              Computing or Tech   \n",
       "2  4/27/2021 11:02:38            25-34  Accounting, Banking & Finance   \n",
       "3  4/27/2021 11:02:41            25-34                     Nonprofits   \n",
       "4  4/27/2021 11:02:42            25-34  Accounting, Banking & Finance   \n",
       "\n",
       "                                  Job title Additional context on job title  \\\n",
       "0        Research and Instruction Librarian                             NaN   \n",
       "1  Change & Internal Communications Manager                             NaN   \n",
       "2                      Marketing Specialist                             NaN   \n",
       "3                           Program Manager                             NaN   \n",
       "4                        Accounting Manager                             NaN   \n",
       "\n",
       "  Annual salary  Other monetary comp Currency Currency - other  \\\n",
       "0        55,000                  0.0      USD              NaN   \n",
       "1        54,600               4000.0      GBP              NaN   \n",
       "2        34,000                  NaN      USD              NaN   \n",
       "3        62,000               3000.0      USD              NaN   \n",
       "4        60,000               7000.0      USD              NaN   \n",
       "\n",
       "  Additional context on income         Country           State         City  \\\n",
       "0                          NaN   United States   Massachusetts       Boston   \n",
       "1                          NaN  United Kingdom             NaN    Cambridge   \n",
       "2                          NaN              US       Tennessee  Chattanooga   \n",
       "3                          NaN             USA       Wisconsin    Milwaukee   \n",
       "4                          NaN              US  South Carolina   Greenville   \n",
       "\n",
       "  Overall years of professional experience Years of experience in field  \\\n",
       "0                                5-7 years                    5-7 years   \n",
       "1                             8 - 10 years                    5-7 years   \n",
       "2                              2 - 4 years                  2 - 4 years   \n",
       "3                             8 - 10 years                    5-7 years   \n",
       "4                             8 - 10 years                    5-7 years   \n",
       "\n",
       "  Highest level of education completed      Gender   Race  \n",
       "0                      Master's degree       Woman  White  \n",
       "1                       College degree  Non-binary  White  \n",
       "2                       College degree       Woman  White  \n",
       "3                       College degree       Woman  White  \n",
       "4                       College degree       Woman  White  "
      ]
     },
     "execution_count": 4,
     "metadata": {},
     "output_type": "execute_result"
    }
   ],
   "source": [
    "df = pd.read_csv(\"../data301_proj1/data/Ask A Manager Salary Survey 2021 (Responses) - Form Responses 1.csv\")\n",
    "df.head()"
   ]
  },
  {
   "cell_type": "markdown",
   "id": "ebb33bc2-2dd5-4627-9f03-80e8bfcf5700",
   "metadata": {},
   "source": [
    "## Initial feature filtering\n",
    "\n",
    "* Not all the columns in the dataset are pertinent to the questions raised, so we'll filter out some."
   ]
  },
  {
   "cell_type": "code",
   "execution_count": 5,
   "id": "10912d75-d5cb-45de-8dd2-8c53cfc0e90b",
   "metadata": {},
   "outputs": [],
   "source": [
    "pertinent_cols = [\n",
    "    'Job title', \"How old are you?\",\n",
    "    'Additional context on job title', 'Annual salary',\n",
    "    'Other monetary comp', 'Currency',\n",
    "    'Currency - other', 'Additional context on income',\n",
    "    'Country','State', 'City'\n",
    "]\n",
    "df_pert = df[pertinent_cols].copy()"
   ]
  },
  {
   "cell_type": "markdown",
   "id": "da95372d-572d-4874-869b-be33636f6c8a",
   "metadata": {},
   "source": [
    "## Text cleaning\n",
    "\n",
    "* A quick way to reduce cardinality of the 'Job title' text field is to lowercase all values"
   ]
  },
  {
   "cell_type": "code",
   "execution_count": 6,
   "id": "295cb943-d908-49e4-a484-79e9b204d7c3",
   "metadata": {},
   "outputs": [],
   "source": [
    "df_pert['Job title'] = df_pert['Job title'].map(lambda x: x.lower())"
   ]
  },
  {
   "cell_type": "markdown",
   "id": "d832a915-1eff-4f97-944a-aef8e7feee61",
   "metadata": {},
   "source": [
    "* Since this is a time-sensitive request, we'll create a simple Boolean flag with a rough filter of a few ways that people seem to have indicated their title. This will miss typos ('sotfware engineer' will be a 0) and allow non-software fields ('commercial real estate developer' will be a 1), but there's enough data and it captures enough of the actual tech roles to be a reasonable approximation. If precision was important, I would consider some regex and more complex filters."
   ]
  },
  {
   "cell_type": "code",
   "execution_count": 7,
   "id": "ead87fee-50dc-4429-a3f9-46f9fc960d26",
   "metadata": {},
   "outputs": [
    {
     "data": {
      "text/plain": [
       "0    26014\n",
       "1     1595\n",
       "Name: engineer_yn, dtype: int64"
      ]
     },
     "execution_count": 7,
     "metadata": {},
     "output_type": "execute_result"
    }
   ],
   "source": [
    "df_pert[\"engineer_yn\"] = df_pert[\"Job title\"].apply(lambda x: 1 if \"software\" in x or \"sw\" in x or \"developer\" in x else 0)\n",
    "df_pert[\"engineer_yn\"].value_counts()"
   ]
  },
  {
   "cell_type": "markdown",
   "id": "5829e76c-d3d3-4317-9f1d-c86c80d661e6",
   "metadata": {},
   "source": [
    "* It looks as though we have roughly 1600 tech folks in our dataset, which should give us some worthwhile summary statistics. I'll sort and check for nulls as I continue the cleaning process."
   ]
  },
  {
   "cell_type": "code",
   "execution_count": 8,
   "id": "e6819925-1826-4cd6-9bf3-228e7202172e",
   "metadata": {},
   "outputs": [],
   "source": [
    "df_pert.sort_values(\"engineer_yn\", inplace=True)"
   ]
  },
  {
   "cell_type": "code",
   "execution_count": 9,
   "id": "651b5149-7eef-4e55-8939-b1bef7402c93",
   "metadata": {},
   "outputs": [
    {
     "data": {
      "text/plain": [
       "Job title                              0\n",
       "How old are you?                       0\n",
       "Additional context on job title    20463\n",
       "Annual salary                          0\n",
       "Other monetary comp                 7146\n",
       "Currency                               0\n",
       "Currency - other                   27427\n",
       "Additional context on income       24603\n",
       "Country                                0\n",
       "State                               4911\n",
       "City                                  75\n",
       "engineer_yn                            0\n",
       "dtype: int64"
      ]
     },
     "execution_count": 9,
     "metadata": {},
     "output_type": "execute_result"
    }
   ],
   "source": [
    "df_pert.isnull().sum()"
   ]
  },
  {
   "cell_type": "markdown",
   "id": "6b491020-c568-4959-888e-ded8b0ed573c",
   "metadata": {},
   "source": [
    "* Now I'll clean the 'Country' column, which unfortunately was a free text field (like 'Job title') instead of a dropdown list.\n",
    "\n",
    "* I don't know a lot about the source of this data, but I do know that it was a US-based survey, so I expect to find a significant percentage of the respondents are from there"
   ]
  },
  {
   "cell_type": "code",
   "execution_count": 10,
   "id": "85cc2316-7c55-4a33-8773-a4d8f0d18383",
   "metadata": {},
   "outputs": [
    {
     "data": {
      "text/plain": [
       "United States      8844\n",
       "USA                7847\n",
       "US                 2572\n",
       "Canada             1549\n",
       "United States       652\n",
       "                   ... \n",
       "europe                1\n",
       "Can                   1\n",
       "UNited States         1\n",
       "Cayman Islands        1\n",
       "the netherlands       1\n",
       "Name: Country, Length: 364, dtype: int64"
      ]
     },
     "execution_count": 10,
     "metadata": {},
     "output_type": "execute_result"
    }
   ],
   "source": [
    "df_pert[\"Country\"].value_counts()"
   ]
  },
  {
   "cell_type": "markdown",
   "id": "995a77d3-ba30-459f-b5af-5ebe696f82b3",
   "metadata": {},
   "source": [
    "* Just like with 'Job title', we'll do a quick reduce by lowercasing all the country names, and we'll also strip any leading or trailing whitespace, then check the results."
   ]
  },
  {
   "cell_type": "code",
   "execution_count": 11,
   "id": "0a309f35-d243-42af-8001-d8b896e91801",
   "metadata": {},
   "outputs": [
    {
     "data": {
      "text/plain": [
       "united states                                   9842\n",
       "usa                                             8956\n",
       "us                                              2734\n",
       "canada                                          1656\n",
       "uk                                               683\n",
       "                                                ... \n",
       "y                                                  1\n",
       "from new zealand but on projects across apac       1\n",
       "california                                         1\n",
       "australian                                         1\n",
       "united kingdom.                                    1\n",
       "Name: clean_country, Length: 250, dtype: int64"
      ]
     },
     "execution_count": 11,
     "metadata": {},
     "output_type": "execute_result"
    }
   ],
   "source": [
    "df_pert[\"clean_country\"] = df_pert[\"Country\"].apply(lambda x: x.lower().strip())\n",
    "df_pert[\"clean_country\"].value_counts()"
   ]
  },
  {
   "cell_type": "markdown",
   "id": "4c59f967-039c-40bf-bc5c-f9b937a28172",
   "metadata": {},
   "source": [
    "* I know there are WAY more elegant ways to do this (regex, in particular, or using fuzzy string matching/Levenshtein distance), but again, because of the time-sensitive nature of the request, I'll just brute-force it again, then check the results."
   ]
  },
  {
   "cell_type": "code",
   "execution_count": 12,
   "id": "bbd6c43e-d2bb-4c53-aa49-2806cec4bd51",
   "metadata": {},
   "outputs": [
    {
     "data": {
      "text/plain": [
       "usa                22790\n",
       "canada              1656\n",
       "uk                   683\n",
       "united kingdom       625\n",
       "australia            382\n",
       "                   ...  \n",
       "y                      1\n",
       "jamaica                1\n",
       "méxico                 1\n",
       "uganda                 1\n",
       "united kingdom.        1\n",
       "Name: clean_country, Length: 202, dtype: int64"
      ]
     },
     "execution_count": 12,
     "metadata": {},
     "output_type": "execute_result"
    }
   ],
   "source": [
    "df_pert[\"clean_country\"] = df_pert[\"clean_country\"].apply(lambda x: \"usa\" if x == \"us\" or re.search('unit.+ sta.+', x) or \"usa\" in x or \"u.s\" in x or \"u. s\" in x else x)\n",
    "df_pert[\"clean_country\"].value_counts()"
   ]
  },
  {
   "cell_type": "markdown",
   "id": "74eb74ad-a7c1-4038-980a-24204cc4a646",
   "metadata": {},
   "source": [
    "* That looks closer to the numbers I was expecting based on what I know about the dataset.\n",
    "\n",
    "* Next I'll filter out some additional columns out of which it would take too much time to extract useful information, then pull a dataset of only software engineers (using the Boolean flag from above)."
   ]
  },
  {
   "cell_type": "code",
   "execution_count": 13,
   "id": "fef56bce-8a5f-4a96-9986-86750da3cc36",
   "metadata": {},
   "outputs": [],
   "source": [
    "desired_cols = [\n",
    "    'Job title', \"How old are you?\",\n",
    "    'Annual salary', 'Other monetary comp',\n",
    "    'Currency', 'Currency - other',\n",
    "    'Additional context on income', 'engineer_yn',\n",
    "    'clean_country'\n",
    "]\n",
    "df_pert = df_pert[desired_cols]\n",
    "df_se_only = df_pert[df_pert['engineer_yn'] == 1].copy()"
   ]
  },
  {
   "cell_type": "markdown",
   "id": "25d92058-76bf-42bb-95de-9bec3e55391d",
   "metadata": {},
   "source": [
    "* Since I'd like to do some calculations and also plot some of this information, I need to convert the 'Annual salary' field to a float (first removing the commas)"
   ]
  },
  {
   "cell_type": "code",
   "execution_count": 14,
   "id": "48784f05-3184-46e0-982c-e0efefbb3ad0",
   "metadata": {},
   "outputs": [],
   "source": [
    "df_se_only[\"numeric salary\"] = df_se_only[\"Annual salary\"].apply(lambda x: float(re.sub(\",\", \"\", x)))"
   ]
  },
  {
   "cell_type": "markdown",
   "id": "cb724976-2311-4b7d-8740-a6b16755a3fd",
   "metadata": {},
   "source": [
    "* The column 'Other monetary comp' is floats, but some are null, so I'll fill those with zeroes"
   ]
  },
  {
   "cell_type": "code",
   "execution_count": 15,
   "id": "f4607d27-3dbf-4510-ba9b-6855ac5d9f0b",
   "metadata": {},
   "outputs": [],
   "source": [
    "df_se_only[\"Other monetary comp\"] = df[\"Other monetary comp\"].fillna(0)"
   ]
  },
  {
   "cell_type": "markdown",
   "id": "a288feb3-342a-4fe9-922b-32a9379970bb",
   "metadata": {},
   "source": [
    "* To simplify, I'll calculate a new column for total compensation, then remove the 'Annual salary' and 'Other monetary comp' columns."
   ]
  },
  {
   "cell_type": "code",
   "execution_count": 16,
   "id": "19efca2c-1819-4381-a460-404997407a79",
   "metadata": {},
   "outputs": [],
   "source": [
    "df_se_only[\"total_comp\"] = df_se_only[\"numeric salary\"] + df_se_only[\"Other monetary comp\"]\n",
    "df_se_only.drop([\"numeric salary\", \"Other monetary comp\"], axis=1, inplace=True)"
   ]
  },
  {
   "cell_type": "markdown",
   "id": "636393b0-3631-4ee0-b93c-f5422f4c3364",
   "metadata": {},
   "source": [
    "## Currency conversion"
   ]
  },
  {
   "cell_type": "markdown",
   "id": "6971f7b4-7c5a-47ab-8dbf-8d329c440bdd",
   "metadata": {},
   "source": [
    "* I'll check the cardinality of the currency situation first."
   ]
  },
  {
   "cell_type": "code",
   "execution_count": 17,
   "id": "ac5eed99-0a77-483f-9b15-da4ee70f3510",
   "metadata": {},
   "outputs": [
    {
     "data": {
      "text/plain": [
       "USD        1239\n",
       "GBP         120\n",
       "CAD          96\n",
       "EUR          86\n",
       "AUD/NZD      26\n",
       "Other        17\n",
       "CHF           7\n",
       "SEK           4\n",
       "Name: Currency, dtype: int64"
      ]
     },
     "execution_count": 17,
     "metadata": {},
     "output_type": "execute_result"
    }
   ],
   "source": [
    "df_se_only[\"Currency\"].value_counts()"
   ]
  },
  {
   "cell_type": "markdown",
   "id": "f3c2e67b-bdcd-4053-bf27-42462b084fa2",
   "metadata": {},
   "source": [
    "* Since we have a limited set of currencies, it should be straightforward to convert them all to USD equivalents. With a quick Google search I found a currency conversion CSV to use, but there is a bit of work to be done to make it usable."
   ]
  },
  {
   "cell_type": "code",
   "execution_count": 18,
   "id": "a131ecff-8ed2-4bb6-9f99-c9d7dd5facf0",
   "metadata": {},
   "outputs": [],
   "source": [
    "df_curr = pd.read_csv('preprocessing_and_eda/data/currency_converter.csv', header=1, nrows=42)"
   ]
  },
  {
   "cell_type": "markdown",
   "id": "a3a531c5-4e04-405d-8912-16b3396b2c55",
   "metadata": {},
   "source": [
    "* The currency labels in the survey data need to be abbreviated to match the ones in the conversion CSV."
   ]
  },
  {
   "cell_type": "code",
   "execution_count": 19,
   "id": "de5831a7-81da-4777-ab3f-e3805e931ed3",
   "metadata": {},
   "outputs": [],
   "source": [
    "df_curr[\"Currency\"] = df_curr[\"Currency\"].apply(lambda x: \"EUR\" if \"Euro\" in str(x) else x)\n",
    "df_curr[\"Currency\"] = df_curr[\"Currency\"].apply(lambda x: \"USD\" if \"U.S.\" in str(x) else x)\n",
    "df_curr[\"Currency\"] = df_curr[\"Currency\"].apply(lambda x: \"CAD\" if \"Canadian\" in str(x) else x)\n",
    "df_curr[\"Currency\"] = df_curr[\"Currency\"].apply(lambda x: \"GBP\" if \"U.K.\" in str(x) else x)\n",
    "df_curr[\"Currency\"] = df_curr[\"Currency\"].apply(lambda x: \"CHF\" if \"Swiss franc\" in str(x) else x)\n",
    "df_curr[\"Currency\"] = df_curr[\"Currency\"].apply(lambda x: \"SEK\" if \"Swedish\" in str(x) else x)\n",
    "df_curr[\"Currency\"] = df_curr[\"Currency\"].apply(lambda x: \"AUD/NZD\" if \"Australian\" in str(x) or \"Zealand\" in str(x) else x)"
   ]
  },
  {
   "cell_type": "markdown",
   "id": "6f90473b-4d7f-44be-a36d-3a0fee3864ff",
   "metadata": {},
   "source": [
    "* January 10 is the closest date in the currency conversion dataset to the date of the survey, so I'll filter out all but that column."
   ]
  },
  {
   "cell_type": "code",
   "execution_count": 20,
   "id": "f2bb5dce-ddcb-42f0-9c10-1f2e51c43ac1",
   "metadata": {},
   "outputs": [
    {
     "data": {
      "text/html": [
       "<div>\n",
       "<style scoped>\n",
       "    .dataframe tbody tr th:only-of-type {\n",
       "        vertical-align: middle;\n",
       "    }\n",
       "\n",
       "    .dataframe tbody tr th {\n",
       "        vertical-align: top;\n",
       "    }\n",
       "\n",
       "    .dataframe thead th {\n",
       "        text-align: right;\n",
       "    }\n",
       "</style>\n",
       "<table border=\"1\" class=\"dataframe\">\n",
       "  <thead>\n",
       "    <tr style=\"text-align: right;\">\n",
       "      <th></th>\n",
       "      <th>index</th>\n",
       "      <th>Currency</th>\n",
       "      <th>10-Jan-22</th>\n",
       "    </tr>\n",
       "  </thead>\n",
       "  <tbody>\n",
       "    <tr>\n",
       "      <th>0</th>\n",
       "      <td>1</td>\n",
       "      <td>EUR</td>\n",
       "      <td>1.1318</td>\n",
       "    </tr>\n",
       "    <tr>\n",
       "      <th>1</th>\n",
       "      <td>3</td>\n",
       "      <td>GBP</td>\n",
       "      <td>1.35835</td>\n",
       "    </tr>\n",
       "    <tr>\n",
       "      <th>2</th>\n",
       "      <td>4</td>\n",
       "      <td>USD</td>\n",
       "      <td>1</td>\n",
       "    </tr>\n",
       "    <tr>\n",
       "      <th>3</th>\n",
       "      <td>6</td>\n",
       "      <td>AUD/NZD</td>\n",
       "      <td>0.7193</td>\n",
       "    </tr>\n",
       "    <tr>\n",
       "      <th>4</th>\n",
       "      <td>10</td>\n",
       "      <td>CAD</td>\n",
       "      <td>1.2679</td>\n",
       "    </tr>\n",
       "    <tr>\n",
       "      <th>5</th>\n",
       "      <td>22</td>\n",
       "      <td>AUD/NZD</td>\n",
       "      <td>0.6777</td>\n",
       "    </tr>\n",
       "    <tr>\n",
       "      <th>6</th>\n",
       "      <td>33</td>\n",
       "      <td>SEK</td>\n",
       "      <td>9.0935</td>\n",
       "    </tr>\n",
       "    <tr>\n",
       "      <th>7</th>\n",
       "      <td>34</td>\n",
       "      <td>CHF</td>\n",
       "      <td>0.92195</td>\n",
       "    </tr>\n",
       "  </tbody>\n",
       "</table>\n",
       "</div>"
      ],
      "text/plain": [
       "   index Currency 10-Jan-22\n",
       "0      1      EUR    1.1318\n",
       "1      3      GBP   1.35835\n",
       "2      4      USD         1\n",
       "3      6  AUD/NZD    0.7193\n",
       "4     10      CAD    1.2679\n",
       "5     22  AUD/NZD    0.6777\n",
       "6     33      SEK    9.0935\n",
       "7     34      CHF   0.92195"
      ]
     },
     "execution_count": 20,
     "metadata": {},
     "output_type": "execute_result"
    }
   ],
   "source": [
    "df_curr_conv = df_curr[[\"Currency\", \"10-Jan-22\"]]\n",
    "\n",
    "currencies = [\"EUR\", \"USD\", \"CAD\", \"GBP\", \"CHF\", \"SEK\", \"AUD/NZD\"]\n",
    "df_app_curr = df_curr_conv[df_curr_conv[\"Currency\"].isin(currencies)].copy()\n",
    "df_app_curr.reset_index()"
   ]
  },
  {
   "cell_type": "markdown",
   "id": "ea8cc5cf-6c39-42a9-af8c-0af73ef58854",
   "metadata": {},
   "source": [
    "* Since Australia and New Zealand are grouped in our survey data, I'll just use the AUD and drop NZD"
   ]
  },
  {
   "cell_type": "code",
   "execution_count": 21,
   "id": "fd64d262-c186-4923-95a5-a165a91ca6e1",
   "metadata": {},
   "outputs": [],
   "source": [
    "df_app_curr.drop([22], inplace=True)"
   ]
  },
  {
   "cell_type": "markdown",
   "id": "7e3488e4-25f2-46c6-856a-98ba5032150d",
   "metadata": {},
   "source": [
    "* I'll save the clean currency conversion dataset as a csv for safekeeping..."
   ]
  },
  {
   "cell_type": "code",
   "execution_count": 22,
   "id": "b1cd21e0-ad41-47ac-a601-1b58bc6315b7",
   "metadata": {
    "tags": []
   },
   "outputs": [],
   "source": [
    "df_app_curr.to_csv(\"preprocessing_and_eda/data/curr_conv.csv\")"
   ]
  },
  {
   "cell_type": "markdown",
   "id": "ad1fd6d2-e0e4-4e88-8034-cd18a112ebe1",
   "metadata": {},
   "source": [
    "* ...and read it back in so I can start my notebook here when I come back to it later"
   ]
  },
  {
   "cell_type": "code",
   "execution_count": 23,
   "id": "6e2d2bdd-ba5b-4db3-8291-bad8ebb84b3b",
   "metadata": {},
   "outputs": [],
   "source": [
    "df_curr_conv = pd.read_csv(\"preprocessing_and_eda/data/curr_conv.csv\")"
   ]
  },
  {
   "cell_type": "markdown",
   "id": "c35d3dfc-9628-4472-a690-b29ac0a168a1",
   "metadata": {},
   "source": [
    "* Now I'll join (in pandas: `.merge()`) the software engineer dataframe with the currency converter and calculate the total compensation in USD"
   ]
  },
  {
   "cell_type": "code",
   "execution_count": 24,
   "id": "0e732832-1a1c-4ab6-9391-30393bb37cf9",
   "metadata": {},
   "outputs": [],
   "source": [
    "df_merged = df_se_only.merge(df_curr_conv, on=\"Currency\")\n",
    "df_merged_copy = df_merged.copy()\n",
    "df_merged[\"total_comp_usd\"] = round(df_merged_copy[\"total_comp\"] / df_merged_copy[\"10-Jan-22\"], 2)"
   ]
  },
  {
   "cell_type": "markdown",
   "id": "c2b59e84-013b-4994-88be-13f1edecb7f9",
   "metadata": {},
   "source": [
    "* For the final clean, prepared dataset, we only need the job title, age, original currency (and country, in case it's of interest), and the total compensation in USD."
   ]
  },
  {
   "cell_type": "code",
   "execution_count": 25,
   "id": "e33871d9-72cb-4b5e-911f-90a084528713",
   "metadata": {},
   "outputs": [],
   "source": [
    "df_final = df_merged[[\"Job title\", \"How old are you?\", \"Currency\", \"clean_country\", \"total_comp_usd\"]].copy()"
   ]
  },
  {
   "cell_type": "markdown",
   "id": "2ff516e6-e4ac-4a00-a2c3-c26202e9d206",
   "metadata": {},
   "source": [
    "## Removing outliers\n",
    "\n",
    "* To check for outliers, I'll sort the list by total compensation."
   ]
  },
  {
   "cell_type": "code",
   "execution_count": 26,
   "id": "68e94bc8-fcf4-47ce-a360-ccb5f9d977c9",
   "metadata": {},
   "outputs": [
    {
     "data": {
      "text/html": [
       "<div>\n",
       "<style scoped>\n",
       "    .dataframe tbody tr th:only-of-type {\n",
       "        vertical-align: middle;\n",
       "    }\n",
       "\n",
       "    .dataframe tbody tr th {\n",
       "        vertical-align: top;\n",
       "    }\n",
       "\n",
       "    .dataframe thead th {\n",
       "        text-align: right;\n",
       "    }\n",
       "</style>\n",
       "<table border=\"1\" class=\"dataframe\">\n",
       "  <thead>\n",
       "    <tr style=\"text-align: right;\">\n",
       "      <th></th>\n",
       "      <th>index</th>\n",
       "      <th>Job title</th>\n",
       "      <th>How old are you?</th>\n",
       "      <th>Currency</th>\n",
       "      <th>clean_country</th>\n",
       "      <th>total_comp_usd</th>\n",
       "    </tr>\n",
       "  </thead>\n",
       "  <tbody>\n",
       "    <tr>\n",
       "      <th>0</th>\n",
       "      <td>1510</td>\n",
       "      <td>software developer</td>\n",
       "      <td>25-34</td>\n",
       "      <td>EUR</td>\n",
       "      <td>germany</td>\n",
       "      <td>48.6</td>\n",
       "    </tr>\n",
       "    <tr>\n",
       "      <th>1</th>\n",
       "      <td>1474</td>\n",
       "      <td>senior developer / consultant</td>\n",
       "      <td>35-44</td>\n",
       "      <td>EUR</td>\n",
       "      <td>germany</td>\n",
       "      <td>64.5</td>\n",
       "    </tr>\n",
       "    <tr>\n",
       "      <th>2</th>\n",
       "      <td>384</td>\n",
       "      <td>msw</td>\n",
       "      <td>55-64</td>\n",
       "      <td>USD</td>\n",
       "      <td>usa</td>\n",
       "      <td>78.0</td>\n",
       "    </tr>\n",
       "    <tr>\n",
       "      <th>3</th>\n",
       "      <td>520</td>\n",
       "      <td>software engineer</td>\n",
       "      <td>25-34</td>\n",
       "      <td>USD</td>\n",
       "      <td>usa</td>\n",
       "      <td>145.0</td>\n",
       "    </tr>\n",
       "    <tr>\n",
       "      <th>4</th>\n",
       "      <td>429</td>\n",
       "      <td>ios developer</td>\n",
       "      <td>25-34</td>\n",
       "      <td>USD</td>\n",
       "      <td>pakistan</td>\n",
       "      <td>7250.0</td>\n",
       "    </tr>\n",
       "    <tr>\n",
       "      <th>...</th>\n",
       "      <td>...</td>\n",
       "      <td>...</td>\n",
       "      <td>...</td>\n",
       "      <td>...</td>\n",
       "      <td>...</td>\n",
       "      <td>...</td>\n",
       "    </tr>\n",
       "    <tr>\n",
       "      <th>1573</th>\n",
       "      <td>1091</td>\n",
       "      <td>director, software development</td>\n",
       "      <td>35-44</td>\n",
       "      <td>USD</td>\n",
       "      <td>usa</td>\n",
       "      <td>950000.0</td>\n",
       "    </tr>\n",
       "    <tr>\n",
       "      <th>1574</th>\n",
       "      <td>889</td>\n",
       "      <td>software development manager</td>\n",
       "      <td>35-44</td>\n",
       "      <td>USD</td>\n",
       "      <td>usa</td>\n",
       "      <td>1100000.0</td>\n",
       "    </tr>\n",
       "    <tr>\n",
       "      <th>1575</th>\n",
       "      <td>1052</td>\n",
       "      <td>software engineer</td>\n",
       "      <td>25-34</td>\n",
       "      <td>USD</td>\n",
       "      <td>usa</td>\n",
       "      <td>1100000.0</td>\n",
       "    </tr>\n",
       "    <tr>\n",
       "      <th>1576</th>\n",
       "      <td>565</td>\n",
       "      <td>senior staff software engineer</td>\n",
       "      <td>45-54</td>\n",
       "      <td>USD</td>\n",
       "      <td>usa</td>\n",
       "      <td>1287000.0</td>\n",
       "    </tr>\n",
       "    <tr>\n",
       "      <th>1577</th>\n",
       "      <td>566</td>\n",
       "      <td>principal software engineer</td>\n",
       "      <td>25-34</td>\n",
       "      <td>USD</td>\n",
       "      <td>usa</td>\n",
       "      <td>1675000.0</td>\n",
       "    </tr>\n",
       "  </tbody>\n",
       "</table>\n",
       "<p>1578 rows × 6 columns</p>\n",
       "</div>"
      ],
      "text/plain": [
       "      index                       Job title How old are you? Currency  \\\n",
       "0      1510              software developer            25-34      EUR   \n",
       "1      1474   senior developer / consultant            35-44      EUR   \n",
       "2       384                             msw            55-64      USD   \n",
       "3       520               software engineer            25-34      USD   \n",
       "4       429                   ios developer            25-34      USD   \n",
       "...     ...                             ...              ...      ...   \n",
       "1573   1091  director, software development            35-44      USD   \n",
       "1574    889    software development manager            35-44      USD   \n",
       "1575   1052               software engineer            25-34      USD   \n",
       "1576    565  senior staff software engineer            45-54      USD   \n",
       "1577    566     principal software engineer            25-34      USD   \n",
       "\n",
       "     clean_country  total_comp_usd  \n",
       "0          germany            48.6  \n",
       "1          germany            64.5  \n",
       "2              usa            78.0  \n",
       "3              usa           145.0  \n",
       "4         pakistan          7250.0  \n",
       "...            ...             ...  \n",
       "1573           usa        950000.0  \n",
       "1574           usa       1100000.0  \n",
       "1575           usa       1100000.0  \n",
       "1576           usa       1287000.0  \n",
       "1577           usa       1675000.0  \n",
       "\n",
       "[1578 rows x 6 columns]"
      ]
     },
     "execution_count": 26,
     "metadata": {},
     "output_type": "execute_result"
    }
   ],
   "source": [
    "df_final.sort_values(\"total_comp_usd\", inplace=True)\n",
    "df_final.reset_index()"
   ]
  },
  {
   "cell_type": "markdown",
   "id": "44c28e25-4a7f-4c47-acbb-5822958882e6",
   "metadata": {},
   "source": [
    "* It looked as though there are some outliers on the low end. It's possible that those respondents simply indicated their salary in thousands, but since I don't know (and there are only 4 that seem out of place), I'll simply remove them."
   ]
  },
  {
   "cell_type": "code",
   "execution_count": 27,
   "id": "f4ad236c-638d-4da1-b87c-63c77160f997",
   "metadata": {},
   "outputs": [],
   "source": [
    "df_final = df_final[df_final['total_comp_usd'] > 5000]"
   ]
  },
  {
   "cell_type": "markdown",
   "id": "e5086e7c-008e-480b-889f-950ee9136cc2",
   "metadata": {},
   "source": [
    "* Again, I'll write the cleaned dataset to a CSV for safekeeping, then read from there to plant another checkpoint for the notebook."
   ]
  },
  {
   "cell_type": "code",
   "execution_count": 28,
   "id": "ecb7b373-f3a7-4dc4-ad78-ac69608ccd2e",
   "metadata": {},
   "outputs": [],
   "source": [
    "df_final.to_csv('preprocessing_and_eda/data/clean_dataset.csv', index=False)"
   ]
  },
  {
   "cell_type": "code",
   "execution_count": 29,
   "id": "ef6c85f6-a8d5-48bf-94c4-d691d57467a2",
   "metadata": {},
   "outputs": [],
   "source": [
    "df_final = pd.read_csv('preprocessing_and_eda/data/clean_dataset.csv')"
   ]
  },
  {
   "cell_type": "markdown",
   "id": "f6a1cbe7-1425-4c6c-90db-96bcf360cd01",
   "metadata": {},
   "source": [
    "# EDA and insights!\n",
    "\n",
    "## Average compensation, grouped by currency"
   ]
  },
  {
   "cell_type": "markdown",
   "id": "86c213e4-3198-45f0-8962-687886749180",
   "metadata": {},
   "source": [
    "* Using a pandas `groupby()` is similar to a `GROUP BY` clause in SQL; requesting the mean of a groupby object is like selecting the average and grouping by the desired feature."
   ]
  },
  {
   "cell_type": "code",
   "execution_count": 30,
   "id": "2c447bf7-4f84-4a36-b7d2-5697ac8681d2",
   "metadata": {},
   "outputs": [],
   "source": [
    "means = df_final.groupby(['Currency']).mean()\n",
    "means.sort_values('total_comp_usd', ascending=False, inplace=True)"
   ]
  },
  {
   "cell_type": "markdown",
   "id": "7848bd9a-729a-49a5-a67a-35def814f0e7",
   "metadata": {},
   "source": [
    "* For legibility, I'll list the compensation in the standard $x.xx format."
   ]
  },
  {
   "cell_type": "code",
   "execution_count": 31,
   "id": "b29d7121-a4aa-4ca5-9995-347b7b2f686e",
   "metadata": {},
   "outputs": [],
   "source": [
    "means['total_comp_usd'] = means['total_comp_usd'].apply(lambda x: round(x, 2))"
   ]
  },
  {
   "cell_type": "markdown",
   "id": "b145dcce-5db4-4482-8f14-4d6051113047",
   "metadata": {},
   "source": [
    "* In case I want easy reference to those mean salaries later, I'll save them to a csv."
   ]
  },
  {
   "cell_type": "code",
   "execution_count": 32,
   "id": "9c47a95c-843a-40d7-acff-5d76b0760e1a",
   "metadata": {},
   "outputs": [],
   "source": [
    "means.to_csv('preprocessing_and_eda/insights/avg_comp_by_currency.csv')"
   ]
  },
  {
   "cell_type": "markdown",
   "id": "e940d21c-425c-47d3-9e6b-5f7c4610cf54",
   "metadata": {},
   "source": [
    "## Average compensation, grouped by currency and broken out by age range of the developer"
   ]
  },
  {
   "cell_type": "markdown",
   "id": "4177d36f-95f0-4d95-a1db-77e33d7aaabc",
   "metadata": {},
   "source": [
    "* A `.groupby()` on multiple columns will return a hierarchically-indexed DataFrame, which can then be sorted by those columns."
   ]
  },
  {
   "cell_type": "code",
   "execution_count": 33,
   "id": "c5e66c95-87b4-41c4-bd4a-d8af4631b978",
   "metadata": {},
   "outputs": [],
   "source": [
    "means_by_age = df_final.groupby([\"Currency\", 'How old are you?']).mean()\n",
    "# means_by_age.head()\n",
    "means_by_age.sort_values(['Currency', 'How old are you?'], ascending=True, inplace=True)"
   ]
  },
  {
   "cell_type": "code",
   "execution_count": 34,
   "id": "b6f53def-6d7d-4d4b-a782-3cccc1ba4160",
   "metadata": {},
   "outputs": [],
   "source": [
    "means_by_age.to_csv('preprocessing_and_eda/insights/avg_comp_by_currency_by_age.csv')"
   ]
  },
  {
   "cell_type": "markdown",
   "id": "ea7df433-5a91-461e-9a99-cdb256420324",
   "metadata": {},
   "source": [
    "## Visualization: salaries, grouped by age, for the top four currencies in the merged dataset\n",
    "\n",
    "* N.B.: I verified with our HR contact person that \"top four\" means \"four most commonly represented,\" NOT \"four with the highest average compensation\""
   ]
  },
  {
   "cell_type": "markdown",
   "id": "64ef4beb-51bf-4f24-a08a-5e1fc9a9e19e",
   "metadata": {},
   "source": [
    "* For the sake of plotting, I'll clean up the means_by_age DataFrame."
   ]
  },
  {
   "cell_type": "code",
   "execution_count": 35,
   "id": "94a18c46-8400-40f5-843a-2188ae41c63e",
   "metadata": {},
   "outputs": [],
   "source": [
    "means_by_age.reset_index(inplace=True)"
   ]
  },
  {
   "cell_type": "markdown",
   "id": "adc99442-58bd-419e-a593-ffada3925ed5",
   "metadata": {},
   "source": [
    "* To determine the top four currencies, I'll get the `.value_counts()` for the earlier DataFrame"
   ]
  },
  {
   "cell_type": "code",
   "execution_count": 36,
   "id": "a27486be-b656-4731-bd14-a4be866f0fe9",
   "metadata": {
    "tags": []
   },
   "outputs": [
    {
     "data": {
      "text/plain": [
       "USD        1237\n",
       "GBP         120\n",
       "CAD          96\n",
       "EUR          84\n",
       "AUD/NZD      26\n",
       "CHF           7\n",
       "SEK           4\n",
       "Name: Currency, dtype: int64"
      ]
     },
     "execution_count": 36,
     "metadata": {},
     "output_type": "execute_result"
    }
   ],
   "source": [
    "df_final['Currency'].value_counts()"
   ]
  },
  {
   "cell_type": "markdown",
   "id": "c4ab67f0-5253-4a22-8a69-986f382bd790",
   "metadata": {},
   "source": [
    "* The four currencies of interest are USD (United States), GBP (UK), CAD (Canada), and EUR (Europe). I'll filter out of the means_by_age DataFrame any currencies not in that list."
   ]
  },
  {
   "cell_type": "code",
   "execution_count": 37,
   "id": "aebe80e3-caf5-4694-890a-571678e22ea8",
   "metadata": {},
   "outputs": [],
   "source": [
    "four_currs = ['USD', 'GBP', 'CAD', 'EUR']\n",
    "\n",
    "top_four = means_by_age.loc[lambda df: df['Currency'].isin(four_currs), :]"
   ]
  },
  {
   "cell_type": "markdown",
   "id": "7632a299-8c0d-4a08-a792-9c8326cf8162",
   "metadata": {},
   "source": [
    "* Lastly I'll plot the information, highlighting the significantly higher salaries for software engineers paid in USD"
   ]
  },
  {
   "cell_type": "code",
   "execution_count": 40,
   "id": "1ac44987-632c-476a-9928-6422b9f27495",
   "metadata": {},
   "outputs": [
    {
     "data": {
      "image/png": "[encoded data removed]",
      "text/plain": [
       "<Figure size 1080x720 with 1 Axes>"
      ]
     },
     "metadata": {
      "needs_background": "light"
     },
     "output_type": "display_data"
    }
   ],
   "source": [
    "plt.figure(figsize=(15, 10))\n",
    "\n",
    "splot = sns.barplot(\n",
    "    data=top_four,\n",
    "    x=\"How old are you?\",\n",
    "    order=['under 18', '18-24', '25-34', '35-44', '45-54', '55-64', '65 or over'],\n",
    "    y=\"total_comp_usd\",\n",
    "    hue=\"Currency\",\n",
    "    hue_order=['USD', 'CAD', 'EUR', 'GBP'],\n",
    "    palette=['steelblue', 'silver', 'lightgrey', 'whitesmoke']\n",
    ")\n",
    "plt.ylabel(\"Mean total annual compensation (USD)\", size=16)\n",
    "plt.xlabel(\"Age bracket\", size=16)\n",
    "plt.title(\"Average US software developer compensation significantly higher than elsewhere\", loc='left', size=20, pad=50)\n",
    "splot.yaxis.set_major_formatter('${x:,.0f}')\n",
    "sns.despine()\n",
    "\n",
    "# bold text for only the USD annotations\n",
    "usd_color = (0.32843137254901955, 0.5049019607843136, 0.6519607843137256, 1.0)\n",
    "for i, p in enumerate(splot.patches, 1):\n",
    "    bar_color = p.get_facecolor()\n",
    "    if pd.isna(p.get_height()):\n",
    "        continue\n",
    "    elif bar_color == usd_color:\n",
    "        splot.annotate('$' + format(round(p.get_height()/1000), '.0f')+\"K\",\n",
    "                       (p.get_x() + p.get_width() / 2., p.get_height()),\n",
    "                       ha = 'center', va = 'center',\n",
    "                       size=10,\n",
    "                       fontweight='extra bold',\n",
    "                       color=bar_color,\n",
    "                       xytext = (0, 12),\n",
    "                       textcoords = 'offset points')\n",
    "    else:\n",
    "        splot.annotate('$' + format(round(p.get_height()/1000), '.0f')+\"K\",\n",
    "                       (p.get_x() + p.get_width() / 2., p.get_height()),\n",
    "                       ha = 'center', va = 'center',\n",
    "                       size=10,\n",
    "                       color='grey',\n",
    "                       xytext = (0, 12),\n",
    "                       textcoords = 'offset points')\n",
    "_ = plt.legend(loc='upper left', fontsize=16)\n",
    "plt.savefig('preprocessing_and_eda/insights/compensation_visual.png')"
   ]
  }
 ],
 "metadata": {
  "kernelspec": {
   "display_name": "Python 3 (ipykernel)",
   "language": "python",
   "name": "python3"
  },
  "language_info": {
   "codemirror_mode": {
    "name": "ipython",
    "version": 3
   },
   "file_extension": ".py",
   "mimetype": "text/x-python",
   "name": "python",
   "nbconvert_exporter": "python",
   "pygments_lexer": "ipython3",
   "version": "3.9.7"
  }
 },
 "nbformat": 4,
 "nbformat_minor": 5
}
